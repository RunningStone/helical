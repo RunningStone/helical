{
 "cells": [
  {
   "cell_type": "code",
   "execution_count": 2,
   "metadata": {},
   "outputs": [],
   "source": [
    "import anndata as ad\n",
    "import pickle as pkl\n",
    "from geneformer_utils import load_mappings\n",
    "from geneformer import TranscriptomeTokenizer\n",
    "from geneformer import EmbExtractor\n",
    "## Download file from : https://figshare.com/ndownloader/files/42706966\n",
    "test = ad.read_h5ad(\"../../data/10k_pbmcs_proc.h5ad\")"
   ]
  },
  {
   "cell_type": "markdown",
   "metadata": {},
   "source": [
    "## Use Geneformer to create embeddings of your data"
   ]
  },
  {
   "cell_type": "code",
   "execution_count": 4,
   "metadata": {},
   "outputs": [],
   "source": [
    "mappings = load_mappings(test.var[\"gene_symbols\"])\n",
    "mappings = pkl.load(open('./human_gene_to_ensemble_id.pkl', 'rb'))\n",
    "test.var['ensembl_id'] = test.var['gene_symbols'].apply(lambda x: mappings.get(x,{\"id\":None})['id'])\n",
    "test.write_h5ad(\"./data_genetf/10k_pbmcs_proc_genetf.h5ad\")"
   ]
  },
  {
   "cell_type": "code",
   "execution_count": 13,
   "metadata": {},
   "outputs": [],
   "source": [
    "tk = TranscriptomeTokenizer({\"cell_type\": \"cell_type\"}, nproc=4)\n",
    "data_dir = \"./data_genetf\"\n",
    "output_dir = \"./data_genetf\"\n",
    "output_prefix = \"genetransformer\""
   ]
  },
  {
   "cell_type": "code",
   "execution_count": 14,
   "metadata": {},
   "outputs": [
    {
     "name": "stdout",
     "output_type": "stream",
     "text": [
      "Tokenizing data_genetf/10k_pbmcs_proc_genetf.h5ad\n",
      "data_genetf/10k_pbmcs_proc_genetf.h5ad has no column attribute 'filter_pass'; tokenizing all cells.\n"
     ]
    },
    {
     "name": "stderr",
     "output_type": "stream",
     "text": [
      "/opt/homebrew/lib/python3.11/site-packages/anndata/__init__.py:51: FutureWarning: `anndata.read` is deprecated, use `anndata.read_h5ad` instead. `ad.read` will be removed in mid 2024.\n",
      "  warnings.warn(\n"
     ]
    },
    {
     "name": "stdout",
     "output_type": "stream",
     "text": [
      "Creating dataset.\n"
     ]
    },
    {
     "name": "stderr",
     "output_type": "stream",
     "text": [
      "Map (num_proc=4): 100%|██████████| 11990/11990 [00:00<00:00, 12902.87 examples/s]\n",
      "Saving the dataset (1/1 shards): 100%|██████████| 11990/11990 [00:00<00:00, 496399.18 examples/s]\n"
     ]
    }
   ],
   "source": [
    "tk.tokenize_data(data_dir, \n",
    "                 output_dir,\n",
    "                 output_prefix,\n",
    "                 file_format=\"h5ad\")"
   ]
  },
  {
   "cell_type": "code",
   "execution_count": 12,
   "metadata": {},
   "outputs": [],
   "source": [
    "\n",
    "embex = EmbExtractor(model_type=\"Pretrained\",\n",
    "                     num_classes=0,\n",
    "                     filter_data=None,\n",
    "                     max_ncells=10,\n",
    "                     emb_layer=0,\n",
    "                     emb_label=None,\n",
    "                     labels_to_plot=None,\n",
    "                     forward_batch_size=5,\n",
    "                     nproc=4)\n"
   ]
  },
  {
   "cell_type": "code",
   "execution_count": 15,
   "metadata": {},
   "outputs": [
    {
     "name": "stderr",
     "output_type": "stream",
     "text": [
      "100%|██████████| 2/2 [00:06<00:00,  3.09s/it]\n"
     ]
    }
   ],
   "source": [
    "\n",
    "embs = embex.extract_embs(\"/Users/maximeallard/helical/git/Geneformer/geneformer-12L-30M\",\n",
    "                          \"/Users/maximeallard/helical/git/helical-package/helical/models/geneformer/data_genetf/genetransformer.dataset\",\n",
    "                          \"./data_genetf\",\n",
    "                          \"results_emb\")"
   ]
  },
  {
   "cell_type": "code",
   "execution_count": 16,
   "metadata": {},
   "outputs": [
    {
     "data": {
      "text/plain": [
       "(10, 512)"
      ]
     },
     "execution_count": 16,
     "metadata": {},
     "output_type": "execute_result"
    }
   ],
   "source": [
    "embs.shape"
   ]
  }
 ],
 "metadata": {
  "kernelspec": {
   "display_name": "Python 3",
   "language": "python",
   "name": "python3"
  },
  "language_info": {
   "codemirror_mode": {
    "name": "ipython",
    "version": 3
   },
   "file_extension": ".py",
   "mimetype": "text/x-python",
   "name": "python",
   "nbconvert_exporter": "python",
   "pygments_lexer": "ipython3",
   "version": "3.11.6"
  },
  "orig_nbformat": 4
 },
 "nbformat": 4,
 "nbformat_minor": 2
}
