{
 "cells": [
  {
   "cell_type": "code",
   "execution_count": 2,
   "metadata": {},
   "outputs": [],
   "source": [
    "import anndata as ad\n",
    "import pickle as pkl\n",
    "## Download file from : https://figshare.com/ndownloader/files/42706966\n",
    "test = ad.read_h5ad(\"../../data/10k_pbmcs_proc.h5ad\")"
   ]
  },
  {
   "cell_type": "markdown",
   "metadata": {},
   "source": [
    "# Get Ensembl IDs for Names"
   ]
  },
  {
   "cell_type": "code",
   "execution_count": 3,
   "metadata": {},
   "outputs": [],
   "source": [
    "# import requests, sys\n",
    "# import json\n",
    "# import pickle as pkl\n",
    "# server = \"https://rest.ensembl.org\"\n",
    "# ext = \"/lookup/symbol/homo_sapiens\"\n",
    "# headers={ \"Content-Type\" : \"application/json\", \"Accept\" : \"application/json\"}\n",
    "\n",
    "# # r = requests.post(server+ext, headers=headers, data='{ \"symbols\" : [\"BRCA2\", \"BRAF\" ] }')\n",
    "\n",
    "# gene_id_to_ensemble = dict()\n",
    "\n",
    "# for i in range(0, len(test.var['gene_symbols']), 1000):\n",
    "#   print(i+1000,\"/\",len(test.var['gene_symbols']))\n",
    "#   symbols = {'symbols':test.var['gene_symbols'][i:i+1000].tolist()}\n",
    "#   r = requests.post(server+ext, headers=headers, data=json.dumps(symbols))\n",
    "#   decoded = r.json()\n",
    "#   gene_id_to_ensemble.update(decoded)\n",
    "#   # print(repr(decoded))\n",
    "\n",
    "# pkl.dump(gene_id_to_ensemble, open('./human_gene_to_ensemble_id.pkl', 'wb')) "
   ]
  },
  {
   "cell_type": "code",
   "execution_count": 4,
   "metadata": {},
   "outputs": [],
   "source": [
    "mappings = pkl.load(open('./human_gene_to_ensemble_id.pkl', 'rb'))"
   ]
  },
  {
   "cell_type": "code",
   "execution_count": 5,
   "metadata": {},
   "outputs": [],
   "source": [
    "test.var['ensembl_id'] = test.var['gene_symbols'].apply(lambda x: mappings.get(x,{\"id\":None})['id'])"
   ]
  },
  {
   "cell_type": "code",
   "execution_count": 6,
   "metadata": {},
   "outputs": [],
   "source": [
    "test.write_h5ad(\"./data_genetf/10k_pbmcs_proc_genetf.h5ad\")"
   ]
  },
  {
   "cell_type": "code",
   "execution_count": 7,
   "metadata": {},
   "outputs": [],
   "source": [
    "## Install Geneformer  from https://huggingface.co/ctheodoris/Geneformer\n",
    "## TODO : Use direct code snippets instead of cloning the full repo"
   ]
  },
  {
   "cell_type": "code",
   "execution_count": 8,
   "metadata": {},
   "outputs": [
    {
     "name": "stderr",
     "output_type": "stream",
     "text": [
      "OMP: Info #276: omp_set_nested routine deprecated, please use omp_set_max_active_levels instead.\n",
      "/opt/homebrew/lib/python3.11/site-packages/tqdm/auto.py:21: TqdmWarning: IProgress not found. Please update jupyter and ipywidgets. See https://ipywidgets.readthedocs.io/en/stable/user_install.html\n",
      "  from .autonotebook import tqdm as notebook_tqdm\n"
     ]
    }
   ],
   "source": [
    "from geneformer import TranscriptomeTokenizer"
   ]
  },
  {
   "cell_type": "code",
   "execution_count": 13,
   "metadata": {},
   "outputs": [],
   "source": [
    "tk = TranscriptomeTokenizer({\"cell_type\": \"cell_type\"}, nproc=4)\n",
    "data_dir = \"./data_genetf\"\n",
    "output_dir = \"./data_genetf\"\n",
    "output_prefix = \"genetransformer\""
   ]
  },
  {
   "cell_type": "code",
   "execution_count": 14,
   "metadata": {},
   "outputs": [
    {
     "name": "stdout",
     "output_type": "stream",
     "text": [
      "Tokenizing data_genetf/10k_pbmcs_proc_genetf.h5ad\n",
      "data_genetf/10k_pbmcs_proc_genetf.h5ad has no column attribute 'filter_pass'; tokenizing all cells.\n"
     ]
    },
    {
     "name": "stderr",
     "output_type": "stream",
     "text": [
      "/opt/homebrew/lib/python3.11/site-packages/anndata/__init__.py:51: FutureWarning: `anndata.read` is deprecated, use `anndata.read_h5ad` instead. `ad.read` will be removed in mid 2024.\n",
      "  warnings.warn(\n"
     ]
    },
    {
     "name": "stdout",
     "output_type": "stream",
     "text": [
      "Creating dataset.\n"
     ]
    },
    {
     "name": "stderr",
     "output_type": "stream",
     "text": [
      "Map (num_proc=4): 100%|██████████| 11990/11990 [00:00<00:00, 12902.87 examples/s]\n",
      "Saving the dataset (1/1 shards): 100%|██████████| 11990/11990 [00:00<00:00, 496399.18 examples/s]\n"
     ]
    }
   ],
   "source": [
    "tk.tokenize_data(data_dir, \n",
    "                 output_dir,\n",
    "                 output_prefix,\n",
    "                 file_format=\"h5ad\")"
   ]
  },
  {
   "cell_type": "code",
   "execution_count": 12,
   "metadata": {},
   "outputs": [],
   "source": [
    "from geneformer import EmbExtractor\n",
    "\n",
    "# initiate EmbExtractor\n",
    "embex = EmbExtractor(model_type=\"Pretrained\",\n",
    "                     num_classes=0,\n",
    "                     filter_data=None,\n",
    "                     max_ncells=10,\n",
    "                     emb_layer=0,\n",
    "                     emb_label=None,\n",
    "                     labels_to_plot=None,\n",
    "                     forward_batch_size=5,\n",
    "                     nproc=4)\n"
   ]
  },
  {
   "cell_type": "code",
   "execution_count": 15,
   "metadata": {},
   "outputs": [
    {
     "name": "stderr",
     "output_type": "stream",
     "text": [
      "100%|██████████| 2/2 [00:06<00:00,  3.09s/it]\n"
     ]
    }
   ],
   "source": [
    "\n",
    "# extracts embedding from input data\n",
    "# input data is tokenized rank value encodings generated by Geneformer tokenizer (see tokenizing_scRNAseq_data.ipynb)\n",
    "# example dataset: https://huggingface.co/datasets/ctheodoris/Genecorpus-30M/tree/main/example_input_files/cell_classification/disease_classification/human_dcm_hcm_nf.dataset\n",
    "embs = embex.extract_embs(\"/Users/maximeallard/helical/git/Geneformer/geneformer-12L-30M\",\n",
    "                          \"/Users/maximeallard/helical/git/helical-package/helical/models/geneformer/data_genetf/genetransformer.dataset\",\n",
    "                          \"./data_genetf\",\n",
    "                          \"results_emb\")"
   ]
  },
  {
   "cell_type": "code",
   "execution_count": 16,
   "metadata": {},
   "outputs": [
    {
     "data": {
      "text/plain": [
       "(10, 512)"
      ]
     },
     "execution_count": 16,
     "metadata": {},
     "output_type": "execute_result"
    }
   ],
   "source": [
    "embs.shape"
   ]
  }
 ],
 "metadata": {
  "kernelspec": {
   "display_name": "Python 3",
   "language": "python",
   "name": "python3"
  },
  "language_info": {
   "codemirror_mode": {
    "name": "ipython",
    "version": 3
   },
   "file_extension": ".py",
   "mimetype": "text/x-python",
   "name": "python",
   "nbconvert_exporter": "python",
   "pygments_lexer": "ipython3",
   "version": "3.11.6"
  },
  "orig_nbformat": 4
 },
 "nbformat": 4,
 "nbformat_minor": 2
}
