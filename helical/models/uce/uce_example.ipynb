{
 "cells": [
  {
   "cell_type": "code",
   "execution_count": 1,
   "metadata": {},
   "outputs": [
    {
     "name": "stderr",
     "output_type": "stream",
     "text": [
      "/opt/homebrew/lib/python3.11/site-packages/tqdm/auto.py:21: TqdmWarning: IProgress not found. Please update jupyter and ipywidgets. See https://ipywidgets.readthedocs.io/en/stable/user_install.html\n",
      "  from .autonotebook import tqdm as notebook_tqdm\n"
     ]
    }
   ],
   "source": [
    "from accelerate import Accelerator\n",
    "import anndata as ad\n",
    "import numpy as np"
   ]
  },
  {
   "cell_type": "code",
   "execution_count": 2,
   "metadata": {},
   "outputs": [],
   "source": [
    "model_config  = {\n",
    "    \"model_loc\": \"./model_files/33l_8ep_1024t_1280.torch\",\n",
    "    \"batch_size\": 5, #25,\n",
    "    \"pad_length\": 1536,\n",
    "    \"pad_token_idx\": 0,\n",
    "    \"chrom_token_left_idx\": 1,\n",
    "    \"chrom_token_right_idx\": 2,\n",
    "    \"cls_token_idx\": 3,\n",
    "    \"CHROM_TOKEN_OFFSET\": 143574,\n",
    "    \"sample_size\": 1024,\n",
    "    \"CXG\": True,\n",
    "    \"n_layers\": 33,\n",
    "    \"output_dim\": 1280,\n",
    "    \"d_hid\": 5120,\n",
    "    \"token_dim\": 5120,\n",
    "    \"multi_gpu\": False\n",
    "}\n",
    "\n",
    "files_config = {\n",
    "    \"spec_chrom_csv_path\": \"./model_files/species_chrom.csv\",\n",
    "    \"token_file\": \"./model_files/all_tokens.torch\",\n",
    "    \"protein_embeddings_dir\": \"./model_files/protein_embeddings/\",\n",
    "    \"offset_pkl_path\": \"./model_files/species_offsets.pkl\"\n",
    "}\n",
    "\n",
    "data_config = {\n",
    "    \"adata_path\": \"../data/full_cells_macaca_obs_sum_v3.h5ad\",\n",
    "    \"dir\": \"./\",\n",
    "    \"species\": 'macaca_fascicularis',#\"human\",\n",
    "    \"filter\": False,\n",
    "    \"skip\": True\n",
    "}"
   ]
  },
  {
   "cell_type": "markdown",
   "metadata": {},
   "source": [
    "## Testing Data"
   ]
  },
  {
   "cell_type": "code",
   "execution_count": 3,
   "metadata": {},
   "outputs": [
    {
     "name": "stderr",
     "output_type": "stream",
     "text": [
      "/opt/homebrew/lib/python3.11/site-packages/anndata/_core/anndata.py:183: ImplicitModificationWarning: Transforming to str index.\n",
      "  warnings.warn(\"Transforming to str index.\", ImplicitModificationWarning)\n"
     ]
    }
   ],
   "source": [
    "ann_data = ad.read_h5ad('../../data/full_cells_macaca_obs_sum_v3.h5ad')"
   ]
  },
  {
   "cell_type": "markdown",
   "metadata": {},
   "source": [
    "## Creating Perturbations"
   ]
  },
  {
   "cell_type": "code",
   "execution_count": 4,
   "metadata": {},
   "outputs": [],
   "source": [
    "filter_indiv = (ann_data.obs['batch']==1) & (ann_data.obs['dose.share']=='dose3') & ((ann_data.obs['sex']=='M') & ((ann_data.obs['duration']==15) | (ann_data.obs['duration']== -9)))\n",
    "gene_counts = ann_data.X[filter_indiv]\n",
    "gene_idx_nonzero, = np.nonzero(gene_counts[1])\n",
    "perturbation_idx = np.random.choice(gene_idx_nonzero,size=5,replace=False)\n",
    "perturbation_candidates = []\n",
    "perturbation_candidates.append(gene_counts[0])\n",
    "perturbation_candidates.append(gene_counts[1])\n",
    "for idx in perturbation_idx:\n",
    "    candidate = gene_counts[1]\n",
    "    candidate[idx] = gene_counts[0][idx]\n",
    "    perturbation_candidates.append(candidate)\n",
    "\n",
    "perturbation_candidates = np.vstack(perturbation_candidates)"
   ]
  },
  {
   "cell_type": "code",
   "execution_count": 5,
   "metadata": {},
   "outputs": [],
   "source": [
    "test = ad.AnnData(X=perturbation_candidates)\n",
    "test.var = ann_data.var"
   ]
  },
  {
   "cell_type": "code",
   "execution_count": 6,
   "metadata": {},
   "outputs": [],
   "source": [
    "from helical.models.uce.uce import UCE\n",
    "accelerator = Accelerator(project_dir=data_config[\"dir\"])"
   ]
  },
  {
   "cell_type": "code",
   "execution_count": 7,
   "metadata": {},
   "outputs": [],
   "source": [
    "helical_model = UCE(model_config,data_config,files_config,accelerator=accelerator)"
   ]
  },
  {
   "cell_type": "code",
   "execution_count": 8,
   "metadata": {},
   "outputs": [],
   "source": [
    "data = helical_model.process_data(test)"
   ]
  },
  {
   "cell_type": "code",
   "execution_count": 9,
   "metadata": {},
   "outputs": [
    {
     "name": "stderr",
     "output_type": "stream",
     "text": [
      "2024-03-16, 19:56:22.839 UCE-Model INFO Inference started\n",
      "100%|██████████| 2/2 [00:13<00:00,  6.62s/it]\n"
     ]
    },
    {
     "data": {
      "text/plain": [
       "(7, 1280)"
      ]
     },
     "execution_count": 9,
     "metadata": {},
     "output_type": "execute_result"
    }
   ],
   "source": [
    "embeddings = helical_model.get_embeddings(data)\n",
    "embeddings.shape"
   ]
  }
 ],
 "metadata": {
  "kernelspec": {
   "display_name": "Python 3",
   "language": "python",
   "name": "python3"
  },
  "language_info": {
   "codemirror_mode": {
    "name": "ipython",
    "version": 3
   },
   "file_extension": ".py",
   "mimetype": "text/x-python",
   "name": "python",
   "nbconvert_exporter": "python",
   "pygments_lexer": "ipython3",
   "version": "3.11.6"
  },
  "orig_nbformat": 4
 },
 "nbformat": 4,
 "nbformat_minor": 2
}
