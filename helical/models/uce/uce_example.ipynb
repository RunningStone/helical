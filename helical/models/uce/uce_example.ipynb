{
 "cells": [
  {
   "cell_type": "markdown",
   "metadata": {},
   "source": [
    "# Universal Cell Embeddings\n",
    "If you want to learn more about the method please read the [paper](https://www.biorxiv.org/content/10.1101/2023.11.28.568918v1) and the [SATURN method](https://www.nature.com/articles/s41592-024-02191-z)."
   ]
  },
  {
   "cell_type": "code",
   "execution_count": 1,
   "metadata": {},
   "outputs": [],
   "source": [
    "from accelerate import Accelerator\n",
    "import anndata as ad\n",
    "import numpy as np"
   ]
  },
  {
   "cell_type": "markdown",
   "metadata": {},
   "source": [
    "Before using the UCE Model please define your model configurations below"
   ]
  },
  {
   "cell_type": "code",
   "execution_count": 2,
   "metadata": {},
   "outputs": [],
   "source": [
    "model_config  = {\n",
    "    \"model_loc\": \"./model_files/4layer_model.torch\",#\"./model_files/33l_8ep_1024t_1280.torch\",\n",
    "    \"batch_size\": 5, #25,\n",
    "    \"pad_length\": 1536,\n",
    "    \"pad_token_idx\": 0,\n",
    "    \"chrom_token_left_idx\": 1,\n",
    "    \"chrom_token_right_idx\": 2,\n",
    "    \"cls_token_idx\": 3,\n",
    "    \"CHROM_TOKEN_OFFSET\": 143574,\n",
    "    \"sample_size\": 1024,\n",
    "    \"CXG\": True,\n",
    "    \"n_layers\": 4,#33,\n",
    "    \"output_dim\": 1280,\n",
    "    \"d_hid\": 5120,\n",
    "    \"token_dim\": 5120,\n",
    "    \"multi_gpu\": False\n",
    "}\n",
    "\n",
    "files_config = {\n",
    "    \"spec_chrom_csv_path\": \"./model_files/species_chrom.csv\",\n",
    "    \"token_file\": \"./model_files/all_tokens.torch\",\n",
    "    \"protein_embeddings_dir\": \"./model_files/protein_embeddings/\",\n",
    "    \"offset_pkl_path\": \"./model_files/species_offsets.pkl\"\n",
    "}\n",
    "\n",
    "data_config = {\n",
    "    \"adata_path\": \"../data/full_cells_macaca_obs_sum_v3.h5ad\",\n",
    "    \"dir\": \"./\",\n",
    "    \"species\": \"human\", #,'macaca_fascicularis',#\"human\",\n",
    "    \"filter\": False,\n",
    "    \"skip\": True\n",
    "}"
   ]
  },
  {
   "cell_type": "markdown",
   "metadata": {},
   "source": [
    "## Loading the Test Data"
   ]
  },
  {
   "cell_type": "code",
   "execution_count": 3,
   "metadata": {},
   "outputs": [],
   "source": [
    "# ann_data = ad.read_h5ad('../../data/full_cells_macaca_obs_sum_v3.h5ad')\n",
    "ann_data = ad.read_h5ad(\"../../../data/10k_pbmcs_proc.h5ad\")"
   ]
  },
  {
   "cell_type": "markdown",
   "metadata": {},
   "source": [
    "## Load the UCE Model via the Helical Python Package\n",
    "\n",
    "Once the package is installed, you can easily load the UCE model and the Helical Package will easily transform your data into the right format and you can then use it with the model."
   ]
  },
  {
   "cell_type": "code",
   "execution_count": 4,
   "metadata": {},
   "outputs": [],
   "source": [
    "from helical.models.uce.uce import UCE\n",
    "accelerator = Accelerator(project_dir=data_config[\"dir\"])"
   ]
  },
  {
   "cell_type": "code",
   "execution_count": 5,
   "metadata": {},
   "outputs": [
    {
     "data": {
      "text/plain": [
       "TransformerModel(\n",
       "  (pos_encoder): PositionalEncoding(\n",
       "    (dropout): Dropout(p=0.05, inplace=False)\n",
       "  )\n",
       "  (encoder): Sequential(\n",
       "    (0): Linear(in_features=5120, out_features=1280, bias=True)\n",
       "    (1): GELU(approximate='none')\n",
       "    (2): LayerNorm((1280,), eps=1e-05, elementwise_affine=True)\n",
       "  )\n",
       "  (transformer_encoder): TransformerEncoder(\n",
       "    (layers): ModuleList(\n",
       "      (0-3): 4 x TransformerEncoderLayer(\n",
       "        (self_attn): MultiheadAttention(\n",
       "          (out_proj): NonDynamicallyQuantizableLinear(in_features=1280, out_features=1280, bias=True)\n",
       "        )\n",
       "        (linear1): Linear(in_features=1280, out_features=5120, bias=True)\n",
       "        (dropout): Dropout(p=0.05, inplace=False)\n",
       "        (linear2): Linear(in_features=5120, out_features=1280, bias=True)\n",
       "        (norm1): LayerNorm((1280,), eps=1e-05, elementwise_affine=True)\n",
       "        (norm2): LayerNorm((1280,), eps=1e-05, elementwise_affine=True)\n",
       "        (dropout1): Dropout(p=0.05, inplace=False)\n",
       "        (dropout2): Dropout(p=0.05, inplace=False)\n",
       "      )\n",
       "    )\n",
       "  )\n",
       "  (decoder): Sequential(\n",
       "    (0): Sequential(\n",
       "      (0): Linear(in_features=1280, out_features=1024, bias=True)\n",
       "      (1): LayerNorm((1024,), eps=1e-05, elementwise_affine=True)\n",
       "      (2): GELU(approximate='none')\n",
       "      (3): Dropout(p=0.05, inplace=False)\n",
       "    )\n",
       "    (1): Sequential(\n",
       "      (0): Linear(in_features=1024, out_features=1280, bias=True)\n",
       "      (1): LayerNorm((1280,), eps=1e-05, elementwise_affine=True)\n",
       "      (2): GELU(approximate='none')\n",
       "      (3): Dropout(p=0.05, inplace=False)\n",
       "    )\n",
       "    (2): Sequential(\n",
       "      (0): Linear(in_features=1280, out_features=1280, bias=True)\n",
       "      (1): LayerNorm((1280,), eps=1e-05, elementwise_affine=True)\n",
       "      (2): GELU(approximate='none')\n",
       "      (3): Dropout(p=0.05, inplace=False)\n",
       "    )\n",
       "    (3): Linear(in_features=1280, out_features=1280, bias=True)\n",
       "  )\n",
       "  (binary_decoder): Sequential(\n",
       "    (0): Sequential(\n",
       "      (0): Linear(in_features=2560, out_features=2048, bias=True)\n",
       "      (1): LayerNorm((2048,), eps=1e-05, elementwise_affine=True)\n",
       "      (2): GELU(approximate='none')\n",
       "      (3): Dropout(p=0.05, inplace=False)\n",
       "    )\n",
       "    (1): Sequential(\n",
       "      (0): Linear(in_features=2048, out_features=512, bias=True)\n",
       "      (1): LayerNorm((512,), eps=1e-05, elementwise_affine=True)\n",
       "      (2): GELU(approximate='none')\n",
       "      (3): Dropout(p=0.05, inplace=False)\n",
       "    )\n",
       "    (2): Sequential(\n",
       "      (0): Linear(in_features=512, out_features=128, bias=True)\n",
       "      (1): LayerNorm((128,), eps=1e-05, elementwise_affine=True)\n",
       "      (2): GELU(approximate='none')\n",
       "      (3): Dropout(p=0.05, inplace=False)\n",
       "    )\n",
       "    (3): Linear(in_features=128, out_features=1, bias=True)\n",
       "  )\n",
       "  (gene_embedding_layer): Sequential(\n",
       "    (0): Linear(in_features=5120, out_features=1280, bias=True)\n",
       "    (1): GELU(approximate='none')\n",
       "    (2): LayerNorm((1280,), eps=1e-05, elementwise_affine=True)\n",
       "  )\n",
       "  (pe_embedding): Embedding(145469, 5120)\n",
       ")"
      ]
     },
     "execution_count": 5,
     "metadata": {},
     "output_type": "execute_result"
    }
   ],
   "source": [
    "helical_model = UCE()\n",
    "helical_model.get_model(model_config, data_config, files_config, accelerator=accelerator)"
   ]
  },
  {
   "cell_type": "code",
   "execution_count": 12,
   "metadata": {},
   "outputs": [],
   "source": [
    "data = helical_model.process_data(ann_data[:10], species=data_config[\"species\"])"
   ]
  },
  {
   "cell_type": "markdown",
   "metadata": {},
   "source": [
    "We create embeddings with the UCE model which can later be plotted and compared."
   ]
  },
  {
   "cell_type": "code",
   "execution_count": 13,
   "metadata": {},
   "outputs": [
    {
     "name": "stderr",
     "output_type": "stream",
     "text": [
      "2024-03-24, 12:33:21.423 UCE-Model INFO Inference started\n",
      "100%|██████████| 2/2 [00:02<00:00,  1.46s/it]\n"
     ]
    },
    {
     "data": {
      "text/plain": [
       "(10, 1280)"
      ]
     },
     "execution_count": 13,
     "metadata": {},
     "output_type": "execute_result"
    }
   ],
   "source": [
    "embeddings = helical_model.get_embeddings(data)\n",
    "embeddings.shape"
   ]
  },
  {
   "cell_type": "markdown",
   "metadata": {},
   "source": [
    "## Plot the New Embeddings easily with UMAP"
   ]
  },
  {
   "cell_type": "code",
   "execution_count": 14,
   "metadata": {},
   "outputs": [
    {
     "data": {
      "text/plain": [
       "AnnData object with n_obs × n_vars = 11990 × 12000\n",
       "    obs: 'n_counts', 'batch', 'labels', 'str_labels', 'cell_type'\n",
       "    var: 'gene_symbols', 'n_counts-0', 'n_counts-1', 'n_counts', 'highly_variable', 'highly_variable_rank', 'means', 'variances', 'variances_norm'\n",
       "    uns: 'cell_types', 'hvg'\n",
       "    obsm: 'design', 'normalized_qc', 'qc_pc', 'raw_qc'"
      ]
     },
     "execution_count": 14,
     "metadata": {},
     "output_type": "execute_result"
    }
   ],
   "source": [
    "ann_data"
   ]
  },
  {
   "cell_type": "code",
   "execution_count": 15,
   "metadata": {},
   "outputs": [
    {
     "data": {
      "text/plain": [
       "<Axes: xlabel='px', ylabel='py'>"
      ]
     },
     "execution_count": 15,
     "metadata": {},
     "output_type": "execute_result"
    },
    {
     "data": {
      "image/png": "[encoded data removed]",
      "text/plain": [
       "<Figure size 1000x1000 with 1 Axes>"
      ]
     },
     "metadata": {},
     "output_type": "display_data"
    }
   ],
   "source": [
    "import seaborn as sns\n",
    "import matplotlib.pyplot as plt\n",
    "import umap\n",
    "import pandas as pd\n",
    "\n",
    "reducer = umap.UMAP(min_dist=0.1, n_components=2, n_epochs=None,n_neighbors=2)\n",
    "mapper = reducer.fit(embeddings)\n",
    "\n",
    "labels = ann_data.obs['cell_type'][:10]\n",
    "# ax = umap.plot.points(mapper,labels=labels_pf,ax=ax,theme='viridis')\n",
    "\n",
    "plot_df = pd.DataFrame(mapper.embedding_,columns=['px','py'])\n",
    "plot_df['Cell Type'] = labels.values\n",
    "\n",
    "plt.figure(figsize=(10,10))\n",
    "ax = plt.axes()\n",
    "sns.set_style('dark')\n",
    "plt.style.use(\"dark_background\")\n",
    "\n",
    "sns.scatterplot(data = plot_df, x='px', y='py', hue='Cell Type', sizes=(50,200), ax=ax, palette=\"pastel\")\n"
   ]
  }
 ],
 "metadata": {
  "kernelspec": {
   "display_name": "Python 3",
   "language": "python",
   "name": "python3"
  },
  "language_info": {
   "codemirror_mode": {
    "name": "ipython",
    "version": 3
   },
   "file_extension": ".py",
   "mimetype": "text/x-python",
   "name": "python",
   "nbconvert_exporter": "python",
   "pygments_lexer": "ipython3",
   "version": "3.11.8"
  },
  "orig_nbformat": 4
 },
 "nbformat": 4,
 "nbformat_minor": 2
}
