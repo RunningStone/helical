{
 "cells": [
  {
   "cell_type": "markdown",
   "metadata": {},
   "source": [
    "# Universal Cell Embeddings"
   ]
  },
  {
   "cell_type": "code",
   "execution_count": 16,
   "metadata": {},
   "outputs": [],
   "source": [
    "from accelerate import Accelerator\n",
    "import anndata as ad\n",
    "import numpy as np"
   ]
  },
  {
   "cell_type": "markdown",
   "metadata": {},
   "source": [
    "Before using the UCE Model please define your model configurations below"
   ]
  },
  {
   "cell_type": "code",
   "execution_count": 18,
   "metadata": {},
   "outputs": [],
   "source": [
    "model_config  = {\n",
    "    \"model_loc\": \"./model_files/4layer_model.torch\",#\"./model_files/33l_8ep_1024t_1280.torch\",\n",
    "    \"batch_size\": 5, #25,\n",
    "    \"pad_length\": 1536,\n",
    "    \"pad_token_idx\": 0,\n",
    "    \"chrom_token_left_idx\": 1,\n",
    "    \"chrom_token_right_idx\": 2,\n",
    "    \"cls_token_idx\": 3,\n",
    "    \"CHROM_TOKEN_OFFSET\": 143574,\n",
    "    \"sample_size\": 1024,\n",
    "    \"CXG\": True,\n",
    "    \"n_layers\": 4,#33,\n",
    "    \"output_dim\": 1280,\n",
    "    \"d_hid\": 5120,\n",
    "    \"token_dim\": 5120,\n",
    "    \"multi_gpu\": False\n",
    "}\n",
    "\n",
    "files_config = {\n",
    "    \"spec_chrom_csv_path\": \"./model_files/species_chrom.csv\",\n",
    "    \"token_file\": \"./model_files/all_tokens.torch\",\n",
    "    \"protein_embeddings_dir\": \"./model_files/protein_embeddings/\",\n",
    "    \"offset_pkl_path\": \"./model_files/species_offsets.pkl\"\n",
    "}\n",
    "\n",
    "data_config = {\n",
    "    \"adata_path\": \"../data/full_cells_macaca_obs_sum_v3.h5ad\",\n",
    "    \"dir\": \"./\",\n",
    "    \"species\": \"human\", #,'macaca_fascicularis',#\"human\",\n",
    "    \"filter\": False,\n",
    "    \"skip\": True\n",
    "}"
   ]
  },
  {
   "cell_type": "markdown",
   "metadata": {},
   "source": [
    "## Loading the Test Data"
   ]
  },
  {
   "cell_type": "code",
   "execution_count": 19,
   "metadata": {},
   "outputs": [],
   "source": [
    "# ann_data = ad.read_h5ad('../../data/full_cells_macaca_obs_sum_v3.h5ad')\n",
    "ann_data = ad.read_h5ad(\"../../data/10k_pbmcs_proc.h5ad\")"
   ]
  },
  {
   "cell_type": "markdown",
   "metadata": {},
   "source": [
    "## Creating In Silico Perturbations "
   ]
  },
  {
   "cell_type": "code",
   "execution_count": null,
   "metadata": {},
   "outputs": [],
   "source": []
  },
  {
   "cell_type": "code",
   "execution_count": 7,
   "metadata": {},
   "outputs": [],
   "source": [
    "filter_indiv = (ann_data.obs['batch']==1) & (ann_data.obs['dose.share']=='dose3') & ((ann_data.obs['sex']=='M') & ((ann_data.obs['duration']==15) | (ann_data.obs['duration']== -9)))\n",
    "gene_counts = ann_data.X[filter_indiv]\n",
    "gene_idx_nonzero, = np.nonzero(gene_counts[1])\n",
    "perturbation_idx = np.random.choice(gene_idx_nonzero,size=5,replace=False)\n",
    "perturbation_candidates = []\n",
    "perturbation_candidates.append(gene_counts[0])\n",
    "perturbation_candidates.append(gene_counts[1])\n",
    "for idx in perturbation_idx:\n",
    "    candidate = gene_counts[1]\n",
    "    candidate[idx] = gene_counts[0][idx]\n",
    "    perturbation_candidates.append(candidate)\n",
    "\n",
    "perturbation_candidates = np.vstack(perturbation_candidates)"
   ]
  },
  {
   "cell_type": "code",
   "execution_count": 20,
   "metadata": {},
   "outputs": [],
   "source": [
    "perturbation_candidates = ann_data.X[:10]"
   ]
  },
  {
   "cell_type": "code",
   "execution_count": 21,
   "metadata": {},
   "outputs": [],
   "source": [
    "test = ad.AnnData(X=perturbation_candidates)\n",
    "test.var = ann_data.var\n",
    "test.var_names = [gene.lower() for gene in ann_data.var_names.values]"
   ]
  },
  {
   "cell_type": "markdown",
   "metadata": {},
   "source": [
    "## Load the UCE Model via the Helical Python Package\n",
    "\n",
    "Once the package is installed, you can easily load the UCE model and the Helical Package will easily transform your data into the right format and you can then use it with the model."
   ]
  },
  {
   "cell_type": "code",
   "execution_count": 22,
   "metadata": {},
   "outputs": [],
   "source": [
    "from helical.models.uce.uce import UCE\n",
    "accelerator = Accelerator(project_dir=data_config[\"dir\"])"
   ]
  },
  {
   "cell_type": "code",
   "execution_count": 23,
   "metadata": {},
   "outputs": [],
   "source": [
    "helical_model = UCE(model_config,data_config,files_config,accelerator=accelerator)"
   ]
  },
  {
   "cell_type": "code",
   "execution_count": 24,
   "metadata": {},
   "outputs": [],
   "source": [
    "data = helical_model.process_data(test,species=data_config[\"species\"])"
   ]
  },
  {
   "cell_type": "markdown",
   "metadata": {},
   "source": [
    "We create embeddings with the UCE model which can later be plotted and compared."
   ]
  },
  {
   "cell_type": "code",
   "execution_count": 25,
   "metadata": {},
   "outputs": [
    {
     "name": "stderr",
     "output_type": "stream",
     "text": [
      "2024-03-19, 15:04:23.632 UCE-Model INFO Inference started\n",
      "100%|██████████| 2/2 [00:18<00:00,  9.20s/it]\n"
     ]
    },
    {
     "data": {
      "text/plain": [
       "(10, 1280)"
      ]
     },
     "execution_count": 25,
     "metadata": {},
     "output_type": "execute_result"
    }
   ],
   "source": [
    "embeddings = helical_model.get_embeddings(data)\n",
    "embeddings.shape"
   ]
  },
  {
   "cell_type": "markdown",
   "metadata": {},
   "source": [
    "## Plot the New Embeddings easily with UMAP"
   ]
  },
  {
   "cell_type": "code",
   "execution_count": 26,
   "metadata": {},
   "outputs": [
    {
     "data": {
      "text/plain": [
       "AnnData object with n_obs × n_vars = 10 × 12000\n",
       "    var: 'gene_symbols', 'n_counts-0', 'n_counts-1', 'n_counts', 'highly_variable', 'highly_variable_rank', 'means', 'variances', 'variances_norm'"
      ]
     },
     "execution_count": 26,
     "metadata": {},
     "output_type": "execute_result"
    }
   ],
   "source": [
    "test"
   ]
  },
  {
   "cell_type": "code",
   "execution_count": 29,
   "metadata": {},
   "outputs": [
    {
     "name": "stderr",
     "output_type": "stream",
     "text": [
      "OMP: Info #276: omp_set_nested routine deprecated, please use omp_set_max_active_levels instead.\n"
     ]
    },
    {
     "data": {
      "text/plain": [
       "<Axes: xlabel='px', ylabel='py'>"
      ]
     },
     "execution_count": 29,
     "metadata": {},
     "output_type": "execute_result"
    },
    {
     "data": {
      "image/png": "[encoded data removed]",
      "text/plain": [
       "<Figure size 1000x1000 with 1 Axes>"
      ]
     },
     "metadata": {},
     "output_type": "display_data"
    }
   ],
   "source": [
    "import seaborn as sns\n",
    "import matplotlib.pyplot as plt\n",
    "import umap\n",
    "import pandas as pd\n",
    "\n",
    "reducer = umap.UMAP(min_dist=0.1, n_components=2, n_epochs=None,n_neighbors=2)\n",
    "mapper = reducer.fit(embeddings)\n",
    "\n",
    "labels = ann_data.obs['cell_type'][:10]\n",
    "# ax = umap.plot.points(mapper,labels=labels_pf,ax=ax,theme='viridis')\n",
    "\n",
    "plot_df = pd.DataFrame(mapper.embedding_,columns=['px','py'])\n",
    "plot_df['Cell Type'] = labels.values\n",
    "\n",
    "plt.figure(figsize=(10,10))\n",
    "ax = plt.axes()\n",
    "sns.set_style('dark')\n",
    "plt.style.use(\"dark_background\")\n",
    "\n",
    "sns.scatterplot(data = plot_df,x='px',y='py',hue='Cell Type',sizes=(50,200),ax=ax,palette=\"pastel\")\n"
   ]
  }
 ],
 "metadata": {
  "kernelspec": {
   "display_name": "Python 3",
   "language": "python",
   "name": "python3"
  },
  "language_info": {
   "codemirror_mode": {
    "name": "ipython",
    "version": 3
   },
   "file_extension": ".py",
   "mimetype": "text/x-python",
   "name": "python",
   "nbconvert_exporter": "python",
   "pygments_lexer": "ipython3",
   "version": "3.11.6"
  },
  "orig_nbformat": 4
 },
 "nbformat": 4,
 "nbformat_minor": 2
}
