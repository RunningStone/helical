{
 "cells": [
  {
   "cell_type": "markdown",
   "metadata": {},
   "source": [
    "# Fine-Tune HyenaDNA On A Downstream Classification Task"
   ]
  },
  {
   "cell_type": "markdown",
   "metadata": {},
   "source": [
    "In this notebook, we will fine-tune the HynaDNA model on a downstream binary classification task involving cis-regulatory elements."
   ]
  },
  {
   "cell_type": "markdown",
   "metadata": {},
   "source": [
    "### Install the package"
   ]
  },
  {
   "cell_type": "code",
   "execution_count": null,
   "metadata": {},
   "outputs": [],
   "source": [
    "# !pip install helical"
   ]
  },
  {
   "cell_type": "markdown",
   "metadata": {},
   "source": [
    "### Imports"
   ]
  },
  {
   "cell_type": "code",
   "execution_count": null,
   "metadata": {},
   "outputs": [],
   "source": [
    "from helical import HyenaDNA, HyenaDNAConfig, HyenaDNAFineTuningModel\n",
    "from datasets import load_dataset\n",
    "from sklearn.metrics import classification_report,confusion_matrix,ConfusionMatrixDisplay\n",
    "import torch\n",
    "import logging, warnings\n",
    "import numpy as np\n",
    "\n",
    "logging.getLogger().setLevel(logging.ERROR)\n",
    "\n",
    "warnings.filterwarnings(\"ignore\")"
   ]
  },
  {
   "cell_type": "markdown",
   "metadata": {},
   "source": [
    "Make use of GPU if there is a GPU present, otherwise default to the CPU"
   ]
  },
  {
   "cell_type": "code",
   "execution_count": 2,
   "metadata": {},
   "outputs": [],
   "source": [
    "device = \"cuda\" if torch.cuda.is_available() else \"cpu\""
   ]
  },
  {
   "cell_type": "markdown",
   "metadata": {},
   "source": [
    "### Dataset Download"
   ]
  },
  {
   "cell_type": "markdown",
   "metadata": {},
   "source": [
    "- We now use the Hugging Face API to download the [dataset](https://huggingface.co/datasets/InstaDeepAI/genomics-long-range-benchmark)\n",
    "- We select the task from the list of tasks available for this dataset"
   ]
  },
  {
   "cell_type": "code",
   "execution_count": 3,
   "metadata": {},
   "outputs": [],
   "source": [
    "label = \"regulatory_element_promoter\"\n",
    "dataset_train = load_dataset(\"InstaDeepAI/genomics-long-range-benchmark\", split=\"train\", subset=True, task_name=label, sequence_length=1024, trust_remote_code=True)\n",
    "dataset_test = load_dataset(\"InstaDeepAI/genomics-long-range-benchmark\", split=\"test\", subset=True, task_name=label, sequence_length=1024, trust_remote_code=True)"
   ]
  },
  {
   "cell_type": "markdown",
   "metadata": {},
   "source": [
    "Since this is a binary classification task, only 2 labels are present below"
   ]
  },
  {
   "cell_type": "code",
   "execution_count": 7,
   "metadata": {},
   "outputs": [
    {
     "name": "stdout",
     "output_type": "stream",
     "text": [
      "0\n",
      "1\n"
     ]
    }
   ],
   "source": [
    "for type in np.unique(dataset_train[\"labels\"]):\n",
    "    print(type)"
   ]
  },
  {
   "cell_type": "markdown",
   "metadata": {},
   "source": [
    "### Define our HyenaDNA model and configs"
   ]
  },
  {
   "cell_type": "code",
   "execution_count": 8,
   "metadata": {},
   "outputs": [],
   "source": [
    "hyena_config = HyenaDNAConfig(model_name=\"hyenadna-tiny-1k-seqlen-d256\", batch_size=5, device=device)\n",
    "hyena = HyenaDNA(configurer=hyena_config)"
   ]
  },
  {
   "cell_type": "markdown",
   "metadata": {},
   "source": [
    "### Process the dataset for both training and testing"
   ]
  },
  {
   "cell_type": "code",
   "execution_count": 6,
   "metadata": {},
   "outputs": [
    {
     "name": "stderr",
     "output_type": "stream",
     "text": [
      "Processing sequences: 100%|██████████| 100000/100000 [00:26<00:00, 3828.00it/s]\n",
      "Processing sequences: 100%|██████████| 96239/96239 [00:25<00:00, 3842.84it/s]\n"
     ]
    }
   ],
   "source": [
    "train_dataset = hyena.process_data(dataset_train[\"sequence\"])\n",
    "test_dataset = hyena.process_data(dataset_test[\"sequence\"])"
   ]
  },
  {
   "cell_type": "markdown",
   "metadata": {},
   "source": [
    "### Define our fine-tuning model and task type"
   ]
  },
  {
   "cell_type": "code",
   "execution_count": 9,
   "metadata": {},
   "outputs": [],
   "source": [
    "hyena_fine_tune = HyenaDNAFineTuningModel(hyena, fine_tuning_head=\"classification\", output_size=len(np.unique(dataset_train[\"labels\"])))"
   ]
  },
  {
   "cell_type": "markdown",
   "metadata": {},
   "source": [
    "### Fine-tune the model"
   ]
  },
  {
   "cell_type": "markdown",
   "metadata": {},
   "source": [
    "For this we set our training and validation datasets along with their labels"
   ]
  },
  {
   "cell_type": "code",
   "execution_count": 10,
   "metadata": {},
   "outputs": [
    {
     "name": "stderr",
     "output_type": "stream",
     "text": [
      "  0%|          | 0/20000 [00:00<?, ?it/s]"
     ]
    },
    {
     "name": "stderr",
     "output_type": "stream",
     "text": [
      "Fine-Tuning: epoch 1/1: 100%|██████████| 20000/20000 [01:52<00:00, 177.74it/s, loss=0.35] \n",
      "Fine-Tuning Validation: 100%|██████████| 19248/19248 [00:37<00:00, 518.78it/s, accuracy=0.978]\n"
     ]
    }
   ],
   "source": [
    "hyena_fine_tune.train(train_input_data=train_dataset, train_labels=dataset_train[\"labels\"], validation_input_data=test_dataset, validation_labels=dataset_test[\"labels\"], optimizer_params={\"lr\": 0.000001})"
   ]
  },
  {
   "cell_type": "markdown",
   "metadata": {},
   "source": [
    "### Evaluate the fine-tuned model"
   ]
  },
  {
   "cell_type": "markdown",
   "metadata": {},
   "source": [
    "We now get the outputs of the model on our test dataset and display some results"
   ]
  },
  {
   "cell_type": "code",
   "execution_count": 11,
   "metadata": {},
   "outputs": [
    {
     "name": "stderr",
     "output_type": "stream",
     "text": [
      "100%|██████████| 19248/19248 [00:31<00:00, 613.70it/s]\n"
     ]
    }
   ],
   "source": [
    "outputs = hyena_fine_tune.get_outputs(test_dataset)"
   ]
  },
  {
   "cell_type": "code",
   "execution_count": 12,
   "metadata": {},
   "outputs": [
    {
     "name": "stdout",
     "output_type": "stream",
     "text": [
      "              precision    recall  f1-score   support\n",
      "\n",
      "           0       0.96      0.97      0.96     92410\n",
      "           1       0.04      0.03      0.03      3829\n",
      "\n",
      "    accuracy                           0.93     96239\n",
      "   macro avg       0.50      0.50      0.50     96239\n",
      "weighted avg       0.92      0.93      0.93     96239\n",
      "\n"
     ]
    }
   ],
   "source": [
    "print(classification_report(dataset_test[\"labels\"], outputs.argmax(axis=1)))"
   ]
  },
  {
   "cell_type": "code",
   "execution_count": 13,
   "metadata": {},
   "outputs": [
    {
     "data": {
      "text/plain": [
       "<sklearn.metrics._plot.confusion_matrix.ConfusionMatrixDisplay at 0x72c4608b5f50>"
      ]
     },
     "execution_count": 13,
     "metadata": {},
     "output_type": "execute_result"
    },
    {
     "data": {
      "image/png": "[encoded data removed]",
      "text/plain": [
       "<Figure size 640x480 with 2 Axes>"
      ]
     },
     "metadata": {},
     "output_type": "display_data"
    }
   ],
   "source": [
    "cm_geneformer = confusion_matrix(dataset_test[\"labels\"], outputs.argmax(axis=1))\n",
    "\n",
    "disp = ConfusionMatrixDisplay(confusion_matrix=cm_geneformer, display_labels=np.unique(np.concatenate((dataset_test[\"labels\"], outputs.argmax(axis=1)))))\n",
    "disp.plot(xticks_rotation=\"vertical\")"
   ]
  }
 ],
 "metadata": {
  "kernelspec": {
   "display_name": "helical-dev",
   "language": "python",
   "name": "python3"
  },
  "language_info": {
   "codemirror_mode": {
    "name": "ipython",
    "version": 3
   },
   "file_extension": ".py",
   "mimetype": "text/x-python",
   "name": "python",
   "nbconvert_exporter": "python",
   "pygments_lexer": "ipython3",
   "version": "3.11.8"
  }
 },
 "nbformat": 4,
 "nbformat_minor": 2
}
