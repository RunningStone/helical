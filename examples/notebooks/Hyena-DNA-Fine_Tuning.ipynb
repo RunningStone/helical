{
 "cells": [
  {
   "cell_type": "code",
   "execution_count": 1,
   "metadata": {},
   "outputs": [
    {
     "name": "stderr",
     "output_type": "stream",
     "text": [
      "2024-09-27 16:48:08.850214: I tensorflow/core/util/port.cc:153] oneDNN custom operations are on. You may see slightly different numerical results due to floating-point round-off errors from different computation orders. To turn them off, set the environment variable `TF_ENABLE_ONEDNN_OPTS=0`.\n",
      "2024-09-27 16:48:08.858823: E external/local_xla/xla/stream_executor/cuda/cuda_fft.cc:485] Unable to register cuFFT factory: Attempting to register factory for plugin cuFFT when one has already been registered\n",
      "2024-09-27 16:48:08.868281: E external/local_xla/xla/stream_executor/cuda/cuda_dnn.cc:8454] Unable to register cuDNN factory: Attempting to register factory for plugin cuDNN when one has already been registered\n",
      "2024-09-27 16:48:08.871122: E external/local_xla/xla/stream_executor/cuda/cuda_blas.cc:1452] Unable to register cuBLAS factory: Attempting to register factory for plugin cuBLAS when one has already been registered\n",
      "2024-09-27 16:48:08.879094: I tensorflow/core/platform/cpu_feature_guard.cc:210] This TensorFlow binary is optimized to use available CPU instructions in performance-critical operations.\n",
      "To enable the following instructions: AVX2 AVX512F AVX512_VNNI AVX512_BF16 FMA, in other operations, rebuild TensorFlow with the appropriate compiler flags.\n",
      "2024-09-27 16:48:09.345153: W tensorflow/compiler/tf2tensorrt/utils/py_utils.cc:38] TF-TRT Warning: Could not find TensorRT\n",
      "/home/matthew/helical-dev/helical/helical/models/scgpt/model_dir/multiomic_model.py:19: UserWarning: flash_attn is not installed\n",
      "  warnings.warn(\"flash_attn is not installed\")\n"
     ]
    }
   ],
   "source": [
    "from helical import HyenaDNA, HyenaDNAConfig, HyenaDNAFineTuningModel\n",
    "from datasets import load_dataset, get_dataset_config_names\n",
    "import torch\n",
    "import logging, warnings\n",
    "import numpy as np\n",
    "\n",
    "logging.getLogger().setLevel(logging.ERROR)\n",
    "\n",
    "warnings.filterwarnings(\"ignore\")"
   ]
  },
  {
   "cell_type": "code",
   "execution_count": 7,
   "metadata": {},
   "outputs": [],
   "source": [
    "device = \"cuda\" if torch.cuda.is_available() else \"cpu\""
   ]
  },
  {
   "cell_type": "code",
   "execution_count": 8,
   "metadata": {},
   "outputs": [],
   "source": [
    "label = \"promoter_tata\"\n",
    "\n",
    "configs = get_dataset_config_names(\"InstaDeepAI/nucleotide_transformer_downstream_tasks_revised\", trust_remote_code=True)\n",
    "dataset = load_dataset(\"InstaDeepAI/nucleotide_transformer_downstream_tasks_revised\", label, trust_remote_code=True)"
   ]
  },
  {
   "cell_type": "code",
   "execution_count": 9,
   "metadata": {},
   "outputs": [],
   "source": [
    "hyena_config = HyenaDNAConfig(model_name=\"hyenadna-tiny-1k-seqlen-d256\", batch_size=5, device=device)\n",
    "hyena = HyenaDNA(configurer=hyena_config)"
   ]
  },
  {
   "cell_type": "code",
   "execution_count": 10,
   "metadata": {},
   "outputs": [
    {
     "name": "stderr",
     "output_type": "stream",
     "text": [
      "Processing sequences: 100%|██████████| 5062/5062 [00:00<00:00, 10197.64it/s]\n",
      "Processing sequences: 100%|██████████| 212/212 [00:00<00:00, 10311.51it/s]\n"
     ]
    }
   ],
   "source": [
    "train_dataset = hyena.process_data(dataset[\"train\"][\"sequence\"])\n",
    "test_dataset = hyena.process_data(dataset[\"test\"][\"sequence\"])"
   ]
  },
  {
   "cell_type": "code",
   "execution_count": 11,
   "metadata": {},
   "outputs": [],
   "source": [
    "train_labels = dataset[\"train\"][\"label\"]\n",
    "test_labels = dataset[\"test\"][\"label\"]"
   ]
  },
  {
   "cell_type": "code",
   "execution_count": 12,
   "metadata": {},
   "outputs": [
    {
     "data": {
      "text/plain": [
       "2"
      ]
     },
     "execution_count": 12,
     "metadata": {},
     "output_type": "execute_result"
    }
   ],
   "source": [
    "len(np.unique(train_labels))"
   ]
  },
  {
   "cell_type": "code",
   "execution_count": 13,
   "metadata": {},
   "outputs": [],
   "source": [
    "hyena_fine_tune = HyenaDNAFineTuningModel(hyena, fine_tuning_head=\"classification\", output_size=len(np.unique(train_labels)))"
   ]
  },
  {
   "cell_type": "code",
   "execution_count": 17,
   "metadata": {},
   "outputs": [
    {
     "name": "stderr",
     "output_type": "stream",
     "text": [
      "Fine-Tuning: epoch 1/5: 100%|██████████| 1013/1013 [00:04<00:00, 246.00it/s, loss=0.354]\n",
      "Fine-Tuning Validation: 100%|██████████| 43/43 [00:00<00:00, 603.08it/s, accuracy=0.912]\n",
      "Fine-Tuning: epoch 2/5: 100%|██████████| 1013/1013 [00:04<00:00, 217.01it/s, loss=0.344]\n",
      "Fine-Tuning Validation: 100%|██████████| 43/43 [00:00<00:00, 661.07it/s, accuracy=0.898]\n",
      "Fine-Tuning: epoch 3/5: 100%|██████████| 1013/1013 [00:04<00:00, 215.25it/s, loss=0.341]\n",
      "Fine-Tuning Validation: 100%|██████████| 43/43 [00:00<00:00, 679.74it/s, accuracy=0.907]\n",
      "Fine-Tuning: epoch 4/5: 100%|██████████| 1013/1013 [00:04<00:00, 231.33it/s, loss=0.338]\n",
      "Fine-Tuning Validation: 100%|██████████| 43/43 [00:00<00:00, 675.91it/s, accuracy=0.916]\n",
      "Fine-Tuning: epoch 5/5: 100%|██████████| 1013/1013 [00:04<00:00, 233.09it/s, loss=0.337]\n",
      "Fine-Tuning Validation: 100%|██████████| 43/43 [00:00<00:00, 666.22it/s, accuracy=0.898]\n"
     ]
    }
   ],
   "source": [
    "hyena_fine_tune.train(train_input_data=train_dataset, train_labels=train_labels, validation_input_data=test_dataset, validation_labels=test_labels, optimizer_params={\"lr\": 0.00001},epochs=5)"
   ]
  },
  {
   "cell_type": "code",
   "execution_count": null,
   "metadata": {},
   "outputs": [],
   "source": []
  }
 ],
 "metadata": {
  "kernelspec": {
   "display_name": "helical-dev",
   "language": "python",
   "name": "python3"
  },
  "language_info": {
   "codemirror_mode": {
    "name": "ipython",
    "version": 3
   },
   "file_extension": ".py",
   "mimetype": "text/x-python",
   "name": "python",
   "nbconvert_exporter": "python",
   "pygments_lexer": "ipython3",
   "version": "3.11.8"
  }
 },
 "nbformat": 4,
 "nbformat_minor": 2
}
