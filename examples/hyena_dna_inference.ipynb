{
 "cells": [
  {
   "cell_type": "markdown",
   "metadata": {},
   "source": [
    "# Downstream prediction \n",
    "In this notebook, a HyenaDNA model is used to predict splice site acceptors with a given sequence of nucleotides.\n",
    "\n",
    "A HyenaDNA model (2 layers and width 256) is used to create embeddings of nucleotides.\n",
    "\n",
    "A small neural network is then trained, using the embeddings as inputs, to predict if a splice site acceptor is present or not."
   ]
  },
  {
   "cell_type": "code",
   "execution_count": 1,
   "metadata": {},
   "outputs": [
    {
     "name": "stderr",
     "output_type": "stream",
     "text": [
      "/Users/bputzeys/miniforge3/envs/head_example/lib/python3.11/site-packages/tensorflow_addons/utils/tfa_eol_msg.py:23: UserWarning: \n",
      "\n",
      "TensorFlow Addons (TFA) has ended development and introduction of new features.\n",
      "TFA has entered a minimal maintenance and release mode until a planned end of life in May 2024.\n",
      "Please modify downstream libraries to take dependencies from other repositories in our TensorFlow community (e.g. Keras, Keras-CV, and Keras-NLP). \n",
      "\n",
      "For more information see: https://github.com/tensorflow/addons/issues/2807 \n",
      "\n",
      "  warnings.warn(\n",
      "/Users/bputzeys/miniforge3/envs/head_example/lib/python3.11/site-packages/tensorflow_addons/utils/ensure_tf_install.py:53: UserWarning: Tensorflow Addons supports using Python ops for all Tensorflow versions above or equal to 2.13.0 and strictly below 2.16.0 (nightly versions are not supported). \n",
      " The versions of TensorFlow you are currently using is 2.13.0-rc1 and is not supported. \n",
      "Some things might work, some things might not.\n",
      "If you were to encounter a bug, do not file an issue.\n",
      "If you want to make sure you're using a tested and supported configuration, either change the TensorFlow version or the TensorFlow Addons's version. \n",
      "You can find the compatibility matrix in TensorFlow Addon's readme:\n",
      "https://github.com/tensorflow/addons\n",
      "  warnings.warn(\n"
     ]
    }
   ],
   "source": [
    "from tensorflow.keras.models import Sequential\n",
    "from tensorflow.keras.layers import Dense, Dropout, BatchNormalization\n",
    "from tensorflow.keras.callbacks import TensorBoard\n",
    "from tensorflow.keras.optimizers import Adam\n",
    "from tensorflow.keras.utils import to_categorical\n",
    "from tensorflow_addons.metrics import F1Score\n",
    "from sklearn import svm\n",
    "from sklearn.metrics import accuracy_score\n",
    "from sklearn.model_selection import train_test_split\n",
    "from sklearn.preprocessing import LabelEncoder\n",
    "import numpy as np\n",
    "from datasets import DatasetDict\n",
    "\n",
    "import datetime\n",
    "from tqdm import tqdm"
   ]
  },
  {
   "cell_type": "markdown",
   "metadata": {},
   "source": [
    "### Use the Helical package to get the Hyena model\n",
    "We use a small HyenaDNA model with 2 layers and width 256."
   ]
  },
  {
   "cell_type": "code",
   "execution_count": 2,
   "metadata": {},
   "outputs": [
    {
     "name": "stderr",
     "output_type": "stream",
     "text": [
      "OMP: Info #276: omp_set_nested routine deprecated, please use omp_set_max_active_levels instead.\n",
      "/Users/bputzeys/Documents/Helical/Code_Repos/helical/helical/models/scgpt/model_dir/multiomic_model.py:19: UserWarning: flash_attn is not installed\n",
      "  warnings.warn(\"flash_attn is not installed\")\n",
      "2024-05-30, 09:37:28.316 helical.services.downloader INFO File: '/Users/bputzeys/.cache/helical/models/hyena_dna/hyenadna-tiny-1k-seqlen-d256.ckpt' exists already. File is not overwritten and nothing is downloaded.\n",
      "2024-05-30, 09:37:28.317 helical.services.downloader INFO File saved to: '/Users/bputzeys/.cache/helical/models/hyena_dna/hyenadna-tiny-1k-seqlen-d256.ckpt'\n",
      "2024-05-30, 09:37:28.423 helical.models.hyena_dna.pretrained_model INFO Loaded pretrained weights ok!\n",
      "2024-05-30, 09:37:28.425 helical.models.hyena_dna.model INFO Model finished initializing.\n"
     ]
    }
   ],
   "source": [
    "from helical.models.hyena_dna.model import HyenaDNA\n",
    "from helical.models.hyena_dna.hyena_dna_config import HyenaDNAConfig    \n",
    "configurer = HyenaDNAConfig(model_name=\"hyenadna-tiny-1k-seqlen-d256\")\n",
    "hyena_model = HyenaDNA(configurer=configurer)"
   ]
  },
  {
   "cell_type": "markdown",
   "metadata": {},
   "source": [
    "### Download the dataset\n",
    "Several datasets are available from the [Nucleotide Transformer](https://arxiv.org/abs/2306.15794). Using the get_dataset_config_names() function, we get a list of the available the datasets for the downstream tasks."
   ]
  },
  {
   "cell_type": "code",
   "execution_count": 3,
   "metadata": {},
   "outputs": [
    {
     "data": {
      "text/plain": [
       "['H4ac',\n",
       " 'H3K36me3',\n",
       " 'splice_sites_donors',\n",
       " 'splice_sites_acceptors',\n",
       " 'H3',\n",
       " 'H4',\n",
       " 'H3K4me3',\n",
       " 'splice_sites_all',\n",
       " 'H3K4me1',\n",
       " 'H3K14ac',\n",
       " 'enhancers_types',\n",
       " 'promoter_no_tata',\n",
       " 'H3K79me3',\n",
       " 'H3K4me2',\n",
       " 'promoter_tata',\n",
       " 'enhancers',\n",
       " 'H3K9ac',\n",
       " 'promoter_all']"
      ]
     },
     "execution_count": 3,
     "metadata": {},
     "output_type": "execute_result"
    }
   ],
   "source": [
    "from datasets import get_dataset_config_names\n",
    "\n",
    "configs = get_dataset_config_names(\"InstaDeepAI/nucleotide_transformer_downstream_tasks\")\n",
    "configs"
   ]
  },
  {
   "cell_type": "markdown",
   "metadata": {},
   "source": [
    "Specifically, we are interested in the splice sites acceptors for this notebook:"
   ]
  },
  {
   "cell_type": "code",
   "execution_count": 4,
   "metadata": {},
   "outputs": [],
   "source": [
    "from datasets import load_dataset\n",
    "\n",
    "dataset = load_dataset(\"InstaDeepAI/nucleotide_transformer_downstream_tasks\", \"splice_sites_acceptors\")"
   ]
  },
  {
   "cell_type": "markdown",
   "metadata": {},
   "source": [
    "To familiarize ourselves with the data, we can print the first seqence and see if it is a splice site acceptor or not:"
   ]
  },
  {
   "cell_type": "code",
   "execution_count": 5,
   "metadata": {},
   "outputs": [
    {
     "name": "stdout",
     "output_type": "stream",
     "text": [
      "Nucleotide sequence:  GTCAGAAATA ...\n",
      "Splice site acceptor label:  0\n"
     ]
    }
   ],
   "source": [
    "print(\"Nucleotide sequence: \", dataset[\"train\"][\"sequence\"][0][:10], \"...\")\n",
    "print(\"Splice site acceptor label: \", dataset[\"train\"][\"label\"][0])\n"
   ]
  },
  {
   "cell_type": "markdown",
   "metadata": {},
   "source": [
    "Define a function that gets the embeddings for each nucleotide sequence in the training dataset.\n",
    "\n",
    "According to the HyenaDNA [paper](https://arxiv.org/pdf/2306.15794): \"[they] average across the tokens to obtain a single classification token\".\n",
    "\n",
    "In our code below, the Hyena model returns a (602, 256) matrix. We average column wise resulting in a vector of shape (256, ) for each observation.\n",
    "\n",
    "During the training process, we also found that it is beneficial to normalize the data row-wise."
   ]
  },
  {
   "cell_type": "code",
   "execution_count": 63,
   "metadata": {},
   "outputs": [],
   "source": [
    "def get_model_inputs(dataset: DatasetDict):\n",
    "    \n",
    "    x = np.empty((0, configurer.config['d_model'])) \n",
    "    labels = np.empty((0,), dtype=int)\n",
    "\n",
    "    # disable logging to avoid cluttering the output\n",
    "    import logging\n",
    "    logging.disable(logging.CRITICAL)\n",
    "\n",
    "    # use tqdm for a progress bar\n",
    "    for i in tqdm(range(len(dataset))):\n",
    "        sequence = dataset[\"sequence\"][i]\n",
    "        \n",
    "        tokenized_sequence = hyena_model.process_data(sequence)\n",
    "        embeddings = hyena_model.get_embeddings(tokenized_sequence)\n",
    "        \n",
    "        numpy_array = embeddings[0].detach().numpy()\n",
    "        mean_array = numpy_array.mean(axis=0)\n",
    "        x = np.append(x, [mean_array], axis=0)\n",
    "        \n",
    "    # normalize the data\n",
    "    x = (x - np.mean(x, axis=0)) / np.std(x, axis=0)\n",
    "    labels = np.array(dataset[\"label\"])\n",
    "    return x, labels"
   ]
  },
  {
   "cell_type": "markdown",
   "metadata": {},
   "source": [
    "As there are 19961 rows, and thus 19961 inferences with the Hyena model, it is beneficial to do this step once and save the output in a `.npy` file."
   ]
  },
  {
   "cell_type": "code",
   "execution_count": null,
   "metadata": {},
   "outputs": [],
   "source": [
    "x, y = get_model_inputs(dataset[\"train\"])\n",
    "np.save(\"x_splice_sites_acc_norm_256\", x)\n",
    "np.save(\"y_splice_sites_acc_norm_256\", y)"
   ]
  },
  {
   "cell_type": "markdown",
   "metadata": {},
   "source": [
    "Load the data and one-hot-encode the labels.\n",
    "\n",
    "We split the training set into actual training data and a test set. \n",
    "\n",
    "This is optional and the entire dataset can be used for training. We did this to avoid data leakage by not touching the test set during the training process."
   ]
  },
  {
   "cell_type": "code",
   "execution_count": 38,
   "metadata": {},
   "outputs": [],
   "source": [
    "x = np.load(\"x_splice_sites_acc_norm_256.npy\")\n",
    "y = np.load(\"y_splice_sites_acc_norm_256.npy\")\n",
    "\n",
    "# # One-hot encode the labels\n",
    "encoder = LabelEncoder()\n",
    "y_encoded = encoder.fit_transform(y)\n",
    "y_encoded = to_categorical(y_encoded, num_classes=2)\n",
    "\n",
    "X_train, X_test, y_train, y_test = train_test_split(x, y_encoded, test_size=0.1, random_state=42)"
   ]
  },
  {
   "cell_type": "markdown",
   "metadata": {},
   "source": [
    "### Define and train the model"
   ]
  },
  {
   "cell_type": "code",
   "execution_count": 66,
   "metadata": {},
   "outputs": [
    {
     "name": "stdout",
     "output_type": "stream",
     "text": [
      "Model: \"sequential_12\"\n",
      "_________________________________________________________________\n",
      " Layer (type)                Output Shape              Param #   \n",
      "=================================================================\n",
      " dense_48 (Dense)            (None, 256)               65792     \n",
      "                                                                 \n",
      " dropout_36 (Dropout)        (None, 256)               0         \n",
      "                                                                 \n",
      " dense_49 (Dense)            (None, 64)                16448     \n",
      "                                                                 \n",
      " dropout_37 (Dropout)        (None, 64)                0         \n",
      "                                                                 \n",
      " dense_50 (Dense)            (None, 2)                 130       \n",
      "                                                                 \n",
      "=================================================================\n",
      "Total params: 82370 (321.76 KB)\n",
      "Trainable params: 82370 (321.76 KB)\n",
      "Non-trainable params: 0 (0.00 Byte)\n",
      "_________________________________________________________________\n",
      "Epoch 1/50\n",
      "281/281 [==============================] - 0s 1ms/step - loss: 0.6770 - f1_score: 0.6066 - val_loss: 0.6113 - val_f1_score: 0.6573\n",
      "Epoch 2/50\n",
      "281/281 [==============================] - 0s 924us/step - loss: 0.6241 - f1_score: 0.6445 - val_loss: 0.5850 - val_f1_score: 0.6918\n",
      "Epoch 3/50\n",
      "281/281 [==============================] - 0s 905us/step - loss: 0.6051 - f1_score: 0.6678 - val_loss: 0.5692 - val_f1_score: 0.7018\n",
      "Epoch 4/50\n",
      "281/281 [==============================] - 0s 900us/step - loss: 0.5931 - f1_score: 0.6781 - val_loss: 0.5661 - val_f1_score: 0.7013\n",
      "Epoch 5/50\n",
      "281/281 [==============================] - 0s 892us/step - loss: 0.5804 - f1_score: 0.6857 - val_loss: 0.5491 - val_f1_score: 0.7025\n",
      "Epoch 6/50\n",
      "281/281 [==============================] - 0s 896us/step - loss: 0.5719 - f1_score: 0.6983 - val_loss: 0.5487 - val_f1_score: 0.7092\n",
      "Epoch 7/50\n",
      "281/281 [==============================] - 0s 898us/step - loss: 0.5628 - f1_score: 0.7033 - val_loss: 0.5370 - val_f1_score: 0.7192\n",
      "Epoch 8/50\n",
      "281/281 [==============================] - 0s 903us/step - loss: 0.5572 - f1_score: 0.7114 - val_loss: 0.5418 - val_f1_score: 0.7070\n",
      "Epoch 9/50\n",
      "281/281 [==============================] - 0s 986us/step - loss: 0.5517 - f1_score: 0.7140 - val_loss: 0.5278 - val_f1_score: 0.7342\n",
      "Epoch 10/50\n",
      "281/281 [==============================] - 0s 896us/step - loss: 0.5434 - f1_score: 0.7221 - val_loss: 0.5289 - val_f1_score: 0.7436\n",
      "Epoch 11/50\n",
      "281/281 [==============================] - 0s 890us/step - loss: 0.5390 - f1_score: 0.7261 - val_loss: 0.5298 - val_f1_score: 0.7218\n",
      "Epoch 12/50\n",
      "281/281 [==============================] - 0s 892us/step - loss: 0.5367 - f1_score: 0.7241 - val_loss: 0.5250 - val_f1_score: 0.7370\n",
      "Epoch 13/50\n",
      "281/281 [==============================] - 0s 900us/step - loss: 0.5319 - f1_score: 0.7280 - val_loss: 0.5281 - val_f1_score: 0.7332\n",
      "Epoch 14/50\n",
      "281/281 [==============================] - 0s 893us/step - loss: 0.5275 - f1_score: 0.7328 - val_loss: 0.5266 - val_f1_score: 0.7346\n",
      "Epoch 15/50\n",
      "281/281 [==============================] - 0s 901us/step - loss: 0.5202 - f1_score: 0.7406 - val_loss: 0.5244 - val_f1_score: 0.7301\n",
      "Epoch 16/50\n",
      "281/281 [==============================] - 0s 893us/step - loss: 0.5184 - f1_score: 0.7395 - val_loss: 0.5152 - val_f1_score: 0.7379\n",
      "Epoch 17/50\n",
      "281/281 [==============================] - 0s 878us/step - loss: 0.5107 - f1_score: 0.7424 - val_loss: 0.5131 - val_f1_score: 0.7225\n",
      "Epoch 18/50\n",
      "281/281 [==============================] - 0s 874us/step - loss: 0.5109 - f1_score: 0.7432 - val_loss: 0.5102 - val_f1_score: 0.7393\n",
      "Epoch 19/50\n",
      "281/281 [==============================] - 0s 877us/step - loss: 0.5034 - f1_score: 0.7468 - val_loss: 0.5074 - val_f1_score: 0.7523\n",
      "Epoch 20/50\n",
      "281/281 [==============================] - 0s 880us/step - loss: 0.4989 - f1_score: 0.7502 - val_loss: 0.5110 - val_f1_score: 0.7460\n",
      "Epoch 21/50\n",
      "281/281 [==============================] - 0s 870us/step - loss: 0.4914 - f1_score: 0.7557 - val_loss: 0.5086 - val_f1_score: 0.7334\n",
      "Epoch 22/50\n",
      "281/281 [==============================] - 0s 1ms/step - loss: 0.4910 - f1_score: 0.7514 - val_loss: 0.5020 - val_f1_score: 0.7420\n",
      "Epoch 23/50\n",
      "281/281 [==============================] - 0s 875us/step - loss: 0.4895 - f1_score: 0.7572 - val_loss: 0.4942 - val_f1_score: 0.7500\n",
      "Epoch 24/50\n",
      "281/281 [==============================] - 0s 899us/step - loss: 0.4827 - f1_score: 0.7636 - val_loss: 0.5044 - val_f1_score: 0.7387\n",
      "Epoch 25/50\n",
      "281/281 [==============================] - 0s 882us/step - loss: 0.4809 - f1_score: 0.7632 - val_loss: 0.5013 - val_f1_score: 0.7520\n",
      "Epoch 26/50\n",
      "281/281 [==============================] - 0s 880us/step - loss: 0.4816 - f1_score: 0.7624 - val_loss: 0.5013 - val_f1_score: 0.7492\n",
      "Epoch 27/50\n",
      "281/281 [==============================] - 0s 888us/step - loss: 0.4743 - f1_score: 0.7674 - val_loss: 0.4987 - val_f1_score: 0.7454\n",
      "Epoch 28/50\n",
      "281/281 [==============================] - 0s 878us/step - loss: 0.4737 - f1_score: 0.7669 - val_loss: 0.5053 - val_f1_score: 0.7460\n",
      "Epoch 29/50\n",
      "281/281 [==============================] - 0s 876us/step - loss: 0.4654 - f1_score: 0.7725 - val_loss: 0.4993 - val_f1_score: 0.7457\n",
      "Epoch 30/50\n",
      "281/281 [==============================] - 0s 870us/step - loss: 0.4667 - f1_score: 0.7716 - val_loss: 0.5025 - val_f1_score: 0.7499\n",
      "Epoch 31/50\n",
      "281/281 [==============================] - 0s 915us/step - loss: 0.4607 - f1_score: 0.7716 - val_loss: 0.5097 - val_f1_score: 0.7334\n",
      "Epoch 32/50\n",
      "281/281 [==============================] - 0s 939us/step - loss: 0.4630 - f1_score: 0.7725 - val_loss: 0.4892 - val_f1_score: 0.7409\n",
      "Epoch 33/50\n",
      "281/281 [==============================] - 0s 1ms/step - loss: 0.4562 - f1_score: 0.7771 - val_loss: 0.4998 - val_f1_score: 0.7410\n",
      "Epoch 34/50\n",
      "281/281 [==============================] - 0s 880us/step - loss: 0.4498 - f1_score: 0.7769 - val_loss: 0.5142 - val_f1_score: 0.7386\n",
      "Epoch 35/50\n",
      "281/281 [==============================] - 0s 872us/step - loss: 0.4459 - f1_score: 0.7793 - val_loss: 0.4980 - val_f1_score: 0.7511\n",
      "Epoch 36/50\n",
      "281/281 [==============================] - 0s 881us/step - loss: 0.4480 - f1_score: 0.7832 - val_loss: 0.4886 - val_f1_score: 0.7551\n",
      "Epoch 37/50\n",
      "281/281 [==============================] - 0s 873us/step - loss: 0.4417 - f1_score: 0.7859 - val_loss: 0.4924 - val_f1_score: 0.7566\n",
      "Epoch 38/50\n",
      "281/281 [==============================] - 0s 872us/step - loss: 0.4384 - f1_score: 0.7871 - val_loss: 0.5027 - val_f1_score: 0.7406\n",
      "Epoch 39/50\n",
      "281/281 [==============================] - 0s 877us/step - loss: 0.4381 - f1_score: 0.7911 - val_loss: 0.5093 - val_f1_score: 0.7502\n",
      "Epoch 40/50\n",
      "281/281 [==============================] - 0s 892us/step - loss: 0.4349 - f1_score: 0.7906 - val_loss: 0.5103 - val_f1_score: 0.7434\n",
      "Epoch 41/50\n",
      "281/281 [==============================] - 0s 875us/step - loss: 0.4250 - f1_score: 0.7935 - val_loss: 0.4940 - val_f1_score: 0.7708\n",
      "Epoch 42/50\n",
      "281/281 [==============================] - 0s 888us/step - loss: 0.4285 - f1_score: 0.7933 - val_loss: 0.5045 - val_f1_score: 0.7513\n",
      "Epoch 43/50\n",
      "281/281 [==============================] - 0s 880us/step - loss: 0.4280 - f1_score: 0.7927 - val_loss: 0.5092 - val_f1_score: 0.7499\n",
      "Epoch 44/50\n",
      "281/281 [==============================] - 0s 876us/step - loss: 0.4209 - f1_score: 0.7945 - val_loss: 0.5023 - val_f1_score: 0.7548\n",
      "Epoch 45/50\n",
      "281/281 [==============================] - 0s 1ms/step - loss: 0.4183 - f1_score: 0.7982 - val_loss: 0.5032 - val_f1_score: 0.7473\n",
      "Epoch 46/50\n",
      "281/281 [==============================] - 0s 1ms/step - loss: 0.4160 - f1_score: 0.8003 - val_loss: 0.5131 - val_f1_score: 0.7394\n",
      "Epoch 47/50\n",
      "281/281 [==============================] - 0s 886us/step - loss: 0.4168 - f1_score: 0.7966 - val_loss: 0.5067 - val_f1_score: 0.7583\n",
      "Epoch 48/50\n",
      "281/281 [==============================] - 0s 891us/step - loss: 0.4069 - f1_score: 0.8030 - val_loss: 0.4972 - val_f1_score: 0.7629\n",
      "Epoch 49/50\n",
      "281/281 [==============================] - 0s 866us/step - loss: 0.4096 - f1_score: 0.8050 - val_loss: 0.5078 - val_f1_score: 0.7590\n",
      "Epoch 50/50\n",
      "281/281 [==============================] - 0s 876us/step - loss: 0.4072 - f1_score: 0.8048 - val_loss: 0.4963 - val_f1_score: 0.7610\n"
     ]
    }
   ],
   "source": [
    "input_shape = (configurer.config['d_model'],)\n",
    "\n",
    "# define the model\n",
    "head_model = Sequential()\n",
    "\n",
    "head_model.add(Dense(256, activation='relu', input_shape=input_shape))\n",
    "head_model.add(Dropout(0.4)) \n",
    "head_model.add(Dense(64, activation='relu'))\n",
    "head_model.add(Dropout(0.4))  \n",
    "head_model.add(Dense(2, activation='softmax'))\n",
    "\n",
    "# compile the model\n",
    "optimizer = Adam(learning_rate=0.001)\n",
    "f1_score = F1Score(2, average='macro')\n",
    "\n",
    "head_model.compile(loss='categorical_crossentropy', optimizer=optimizer, metrics=f1_score)\n",
    "head_model.summary()\n",
    "\n",
    "# Setup callbacks\n",
    "log_dir = \"logs/fit/\" + datetime.datetime.now().strftime(\"%Y%m%d-%H%M%S\")\n",
    "tensorboard_callback = TensorBoard(log_dir=log_dir, histogram_freq=1)\n",
    "history = head_model.fit(X_train, y_train, epochs=50, batch_size=64, validation_data=(X_test, y_test), callbacks=[tensorboard_callback])"
   ]
  },
  {
   "cell_type": "code",
   "execution_count": 68,
   "metadata": {},
   "outputs": [
    {
     "name": "stderr",
     "output_type": "stream",
     "text": [
      "100%|██████████| 2218/2218 [01:13<00:00, 30.18it/s]\n"
     ]
    }
   ],
   "source": [
    "X_unseen, y_unseen = get_model_inputs(dataset[\"test\"])"
   ]
  },
  {
   "cell_type": "markdown",
   "metadata": {},
   "source": [
    "### Evaluate the model on the test data\n"
   ]
  },
  {
   "cell_type": "code",
   "execution_count": 69,
   "metadata": {},
   "outputs": [
    {
     "name": "stdout",
     "output_type": "stream",
     "text": [
      "70/70 [==============================] - 0s 415us/step\n",
      "Correct predictions: 75.97%\n"
     ]
    }
   ],
   "source": [
    "predictions_nn = head_model.predict(X_unseen)\n",
    "\n",
    "y_pred = np.argmax(predictions_nn, axis=1)\n",
    "print(\"Correct predictions: {:.2f}%\".format(sum(np.equal(y_pred, y_unseen))*100/len(y_unseen)))\n"
   ]
  },
  {
   "cell_type": "markdown",
   "metadata": {},
   "source": [
    "The [Hyena](https://arxiv.org/pdf/2306.15794) and the [Nucleotide transformer](https://www.biorxiv.org/content/10.1101/2023.01.11.523679v1.full.pdf) papers, report accuracies around 95% for this task. Our results clearly underperform in comparison. This is probably due to the much larger models being used for the NT, while the Hyena model was re-trained from scratch for this task. In future work, we want to achieve these accuracies too with either approaches."
   ]
  },
  {
   "cell_type": "markdown",
   "metadata": {},
   "source": [
    "For reference, we also trained an SVM model and obtained similar results (to our small NN)."
   ]
  },
  {
   "cell_type": "code",
   "execution_count": 71,
   "metadata": {},
   "outputs": [
    {
     "data": {
      "text/html": [
       "<style>#sk-container-id-1 {color: black;background-color: white;}#sk-container-id-1 pre{padding: 0;}#sk-container-id-1 div.sk-toggleable {background-color: white;}#sk-container-id-1 label.sk-toggleable__label {cursor: pointer;display: block;width: 100%;margin-bottom: 0;padding: 0.3em;box-sizing: border-box;text-align: center;}#sk-container-id-1 label.sk-toggleable__label-arrow:before {content: \"▸\";float: left;margin-right: 0.25em;color: #696969;}#sk-container-id-1 label.sk-toggleable__label-arrow:hover:before {color: black;}#sk-container-id-1 div.sk-estimator:hover label.sk-toggleable__label-arrow:before {color: black;}#sk-container-id-1 div.sk-toggleable__content {max-height: 0;max-width: 0;overflow: hidden;text-align: left;background-color: #f0f8ff;}#sk-container-id-1 div.sk-toggleable__content pre {margin: 0.2em;color: black;border-radius: 0.25em;background-color: #f0f8ff;}#sk-container-id-1 input.sk-toggleable__control:checked~div.sk-toggleable__content {max-height: 200px;max-width: 100%;overflow: auto;}#sk-container-id-1 input.sk-toggleable__control:checked~label.sk-toggleable__label-arrow:before {content: \"▾\";}#sk-container-id-1 div.sk-estimator input.sk-toggleable__control:checked~label.sk-toggleable__label {background-color: #d4ebff;}#sk-container-id-1 div.sk-label input.sk-toggleable__control:checked~label.sk-toggleable__label {background-color: #d4ebff;}#sk-container-id-1 input.sk-hidden--visually {border: 0;clip: rect(1px 1px 1px 1px);clip: rect(1px, 1px, 1px, 1px);height: 1px;margin: -1px;overflow: hidden;padding: 0;position: absolute;width: 1px;}#sk-container-id-1 div.sk-estimator {font-family: monospace;background-color: #f0f8ff;border: 1px dotted black;border-radius: 0.25em;box-sizing: border-box;margin-bottom: 0.5em;}#sk-container-id-1 div.sk-estimator:hover {background-color: #d4ebff;}#sk-container-id-1 div.sk-parallel-item::after {content: \"\";width: 100%;border-bottom: 1px solid gray;flex-grow: 1;}#sk-container-id-1 div.sk-label:hover label.sk-toggleable__label {background-color: #d4ebff;}#sk-container-id-1 div.sk-serial::before {content: \"\";position: absolute;border-left: 1px solid gray;box-sizing: border-box;top: 0;bottom: 0;left: 50%;z-index: 0;}#sk-container-id-1 div.sk-serial {display: flex;flex-direction: column;align-items: center;background-color: white;padding-right: 0.2em;padding-left: 0.2em;position: relative;}#sk-container-id-1 div.sk-item {position: relative;z-index: 1;}#sk-container-id-1 div.sk-parallel {display: flex;align-items: stretch;justify-content: center;background-color: white;position: relative;}#sk-container-id-1 div.sk-item::before, #sk-container-id-1 div.sk-parallel-item::before {content: \"\";position: absolute;border-left: 1px solid gray;box-sizing: border-box;top: 0;bottom: 0;left: 50%;z-index: -1;}#sk-container-id-1 div.sk-parallel-item {display: flex;flex-direction: column;z-index: 1;position: relative;background-color: white;}#sk-container-id-1 div.sk-parallel-item:first-child::after {align-self: flex-end;width: 50%;}#sk-container-id-1 div.sk-parallel-item:last-child::after {align-self: flex-start;width: 50%;}#sk-container-id-1 div.sk-parallel-item:only-child::after {width: 0;}#sk-container-id-1 div.sk-dashed-wrapped {border: 1px dashed gray;margin: 0 0.4em 0.5em 0.4em;box-sizing: border-box;padding-bottom: 0.4em;background-color: white;}#sk-container-id-1 div.sk-label label {font-family: monospace;font-weight: bold;display: inline-block;line-height: 1.2em;}#sk-container-id-1 div.sk-label-container {text-align: center;}#sk-container-id-1 div.sk-container {/* jupyter's `normalize.less` sets `[hidden] { display: none; }` but bootstrap.min.css set `[hidden] { display: none !important; }` so we also need the `!important` here to be able to override the default hidden behavior on the sphinx rendered scikit-learn.org. See: https://github.com/scikit-learn/scikit-learn/issues/21755 */display: inline-block !important;position: relative;}#sk-container-id-1 div.sk-text-repr-fallback {display: none;}</style><div id=\"sk-container-id-1\" class=\"sk-top-container\"><div class=\"sk-text-repr-fallback\"><pre>SVC(C=1)</pre><b>In a Jupyter environment, please rerun this cell to show the HTML representation or trust the notebook. <br />On GitHub, the HTML representation is unable to render, please try loading this page with nbviewer.org.</b></div><div class=\"sk-container\" hidden><div class=\"sk-item\"><div class=\"sk-estimator sk-toggleable\"><input class=\"sk-toggleable__control sk-hidden--visually\" id=\"sk-estimator-id-1\" type=\"checkbox\" checked><label for=\"sk-estimator-id-1\" class=\"sk-toggleable__label sk-toggleable__label-arrow\">SVC</label><div class=\"sk-toggleable__content\"><pre>SVC(C=1)</pre></div></div></div></div></div>"
      ],
      "text/plain": [
       "SVC(C=1)"
      ]
     },
     "execution_count": 71,
     "metadata": {},
     "output_type": "execute_result"
    }
   ],
   "source": [
    "# Train the SVM model\n",
    "svm_model = svm.SVC(kernel='rbf', degree=3, C=1, decision_function_shape='ovr')  # One-vs-rest strategy\n",
    "X_train, X_test, y_train, y_test = train_test_split(x, y, test_size=0.1, random_state=42)\n",
    "svm_model.fit(X_train, y_train)"
   ]
  },
  {
   "cell_type": "code",
   "execution_count": 77,
   "metadata": {},
   "outputs": [
    {
     "name": "stdout",
     "output_type": "stream",
     "text": [
      "Test accuracy: 74.3%\n"
     ]
    }
   ],
   "source": [
    "# Evaluate the model\n",
    "unseen_predictions_svm = svm_model.predict(X_unseen)\n",
    "\n",
    "accuracy = accuracy_score(y_unseen, unseen_predictions_svm)\n",
    "print(\"Test accuracy: {:.1f}%\".format(accuracy*100))\n"
   ]
  },
  {
   "cell_type": "code",
   "execution_count": 79,
   "metadata": {},
   "outputs": [
    {
     "data": {
      "image/png": "[encoded data removed]",
      "text/plain": [
       "<Figure size 1000x700 with 2 Axes>"
      ]
     },
     "metadata": {},
     "output_type": "display_data"
    }
   ],
   "source": [
    "import seaborn as sns\n",
    "import matplotlib.pyplot as plt\n",
    "from sklearn.metrics import confusion_matrix\n",
    "\n",
    "# NN\n",
    "# y_true = np.argmax(y_test, axis=1)\n",
    "# y_pred_classes = np.argmax(predictions_nn, axis=1)\n",
    "\n",
    "# SVM\n",
    "y_true = y_test\n",
    "y_pred_classes = svm_model.predict(X_test)\n",
    "\n",
    "# Compute the confusion matrix\n",
    "cm = confusion_matrix(y_true, y_pred_classes)\n",
    "\n",
    "# Create a heatmap\n",
    "plt.figure(figsize=(10,7))\n",
    "sns.heatmap(cm, annot=True, fmt='d')\n",
    "plt.xlabel('Predicted')\n",
    "plt.ylabel('Truth')\n",
    "plt.show()"
   ]
  }
 ],
 "metadata": {
  "kernelspec": {
   "display_name": "helical-package",
   "language": "python",
   "name": "python3"
  },
  "language_info": {
   "codemirror_mode": {
    "name": "ipython",
    "version": 3
   },
   "file_extension": ".py",
   "mimetype": "text/x-python",
   "name": "python",
   "nbconvert_exporter": "python",
   "pygments_lexer": "ipython3",
   "version": "3.11.8"
  }
 },
 "nbformat": 4,
 "nbformat_minor": 2
}
